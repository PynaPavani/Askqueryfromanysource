{
 "cells": [
  {
   "cell_type": "code",
   "execution_count": 1,
   "metadata": {},
   "outputs": [
    {
     "name": "stderr",
     "output_type": "stream",
     "text": [
      "USER_AGENT environment variable not set, consider setting it to identify your requests.\n"
     ]
    },
    {
     "data": {
      "text/plain": [
       "VectorStoreRetriever(tags=['FAISS', 'OllamaEmbeddings'], vectorstore=<langchain_community.vectorstores.faiss.FAISS object at 0x7f1cb9dd2f50>)"
      ]
     },
     "execution_count": 1,
     "metadata": {},
     "output_type": "execute_result"
    }
   ],
   "source": [
    "from langchain_community.document_loaders import WebBaseLoader\n",
    "from langchain_community.vectorstores import FAISS\n",
    "from langchain_community.embeddings import OllamaEmbeddings\n",
    "from langchain_text_splitters import RecursiveCharacterTextSplitter\n",
    "\n",
    "loader=WebBaseLoader('https://generativeai.net/')\n",
    "docs=loader.load()\n",
    "documents=RecursiveCharacterTextSplitter(chunk_size=1000,chunk_overlap=200).split_documents(docs)\n",
    "vectordb=FAISS.from_documents(documents,OllamaEmbeddings())\n",
    "retriever=vectordb.as_retriever()\n",
    "retriever"
   ]
  },
  {
   "cell_type": "code",
   "execution_count": 2,
   "metadata": {},
   "outputs": [],
   "source": [
    "from langchain.tools.retriever import create_retriever_tool\n",
    "retriever_tool=create_retriever_tool(retriever,\"generative AI_search\",\n",
    "                      \"Search for information about generative AI. For any questions about Generative AI, you must use this tool!\")"
   ]
  },
  {
   "cell_type": "code",
   "execution_count": 3,
   "metadata": {},
   "outputs": [
    {
     "data": {
      "text/plain": [
       "'generative AI_search'"
      ]
     },
     "execution_count": 3,
     "metadata": {},
     "output_type": "execute_result"
    }
   ],
   "source": [
    "retriever_tool.name"
   ]
  },
  {
   "cell_type": "code",
   "execution_count": 4,
   "metadata": {},
   "outputs": [
    {
     "name": "stdout",
     "output_type": "stream",
     "text": [
      "Requirement already satisfied: arxiv in /home/pradeep/anaconda3/envs/.venv/lib/python3.11/site-packages (2.1.3)\n",
      "Requirement already satisfied: feedparser~=6.0.10 in /home/pradeep/anaconda3/envs/.venv/lib/python3.11/site-packages (from arxiv) (6.0.11)\n",
      "Requirement already satisfied: requests~=2.32.0 in /home/pradeep/anaconda3/envs/.venv/lib/python3.11/site-packages (from arxiv) (2.32.3)\n",
      "Requirement already satisfied: sgmllib3k in /home/pradeep/anaconda3/envs/.venv/lib/python3.11/site-packages (from feedparser~=6.0.10->arxiv) (1.0.0)\n",
      "Requirement already satisfied: charset-normalizer<4,>=2 in /home/pradeep/anaconda3/envs/.venv/lib/python3.11/site-packages (from requests~=2.32.0->arxiv) (3.3.2)\n",
      "Requirement already satisfied: idna<4,>=2.5 in /home/pradeep/anaconda3/envs/.venv/lib/python3.11/site-packages (from requests~=2.32.0->arxiv) (3.7)\n",
      "Requirement already satisfied: urllib3<3,>=1.21.1 in /home/pradeep/anaconda3/envs/.venv/lib/python3.11/site-packages (from requests~=2.32.0->arxiv) (2.2.1)\n",
      "Requirement already satisfied: certifi>=2017.4.17 in /home/pradeep/anaconda3/envs/.venv/lib/python3.11/site-packages (from requests~=2.32.0->arxiv) (2024.6.2)\n",
      "Requirement already satisfied: langchainhub in /home/pradeep/anaconda3/envs/.venv/lib/python3.11/site-packages (0.1.20)\n",
      "Requirement already satisfied: packaging<25,>=23.2 in /home/pradeep/anaconda3/envs/.venv/lib/python3.11/site-packages (from langchainhub) (24.1)\n",
      "Requirement already satisfied: requests<3,>=2 in /home/pradeep/anaconda3/envs/.venv/lib/python3.11/site-packages (from langchainhub) (2.32.3)\n",
      "Requirement already satisfied: types-requests<3.0.0.0,>=2.31.0.2 in /home/pradeep/anaconda3/envs/.venv/lib/python3.11/site-packages (from langchainhub) (2.32.0.20240622)\n",
      "Requirement already satisfied: charset-normalizer<4,>=2 in /home/pradeep/anaconda3/envs/.venv/lib/python3.11/site-packages (from requests<3,>=2->langchainhub) (3.3.2)\n",
      "Requirement already satisfied: idna<4,>=2.5 in /home/pradeep/anaconda3/envs/.venv/lib/python3.11/site-packages (from requests<3,>=2->langchainhub) (3.7)\n",
      "Requirement already satisfied: urllib3<3,>=1.21.1 in /home/pradeep/anaconda3/envs/.venv/lib/python3.11/site-packages (from requests<3,>=2->langchainhub) (2.2.1)\n",
      "Requirement already satisfied: certifi>=2017.4.17 in /home/pradeep/anaconda3/envs/.venv/lib/python3.11/site-packages (from requests<3,>=2->langchainhub) (2024.6.2)\n"
     ]
    }
   ],
   "source": [
    "!pip install arxiv\n",
    "!pip install langchainhub"
   ]
  },
  {
   "cell_type": "code",
   "execution_count": 5,
   "metadata": {},
   "outputs": [
    {
     "data": {
      "text/plain": [
       "VectorStoreRetriever(tags=['FAISS', 'OllamaEmbeddings'], vectorstore=<langchain_community.vectorstores.faiss.FAISS object at 0x7f1cb9dd29d0>)"
      ]
     },
     "execution_count": 5,
     "metadata": {},
     "output_type": "execute_result"
    }
   ],
   "source": [
    "from langchain_community.document_loaders import WebBaseLoader\n",
    "from langchain_community.vectorstores import FAISS\n",
    "from langchain_community.embeddings import OllamaEmbeddings\n",
    "from langchain_text_splitters import RecursiveCharacterTextSplitter\n",
    "\n",
    "loader=WebBaseLoader('https://www.gitam.edu/campus-life/campus-sites/life-visakhapatnam/')\n",
    "docs=loader.load()\n",
    "documents=RecursiveCharacterTextSplitter(chunk_size=1000,chunk_overlap=200).split_documents(docs)\n",
    "vectordb=FAISS.from_documents(documents,OllamaEmbeddings())\n",
    "tool=vectordb.as_retriever()\n",
    "tool"
   ]
  },
  {
   "cell_type": "code",
   "execution_count": 6,
   "metadata": {},
   "outputs": [],
   "source": [
    "from langchain.tools.retriever import create_retriever_tool\n",
    "tool=create_retriever_tool(tool,\"Visakhapatnam Search\",\n",
    "                      \"Search for information about Visakhapatnam. For any questions about Visakhapatnam, you must use this tool!\")"
   ]
  },
  {
   "cell_type": "code",
   "execution_count": 7,
   "metadata": {},
   "outputs": [
    {
     "data": {
      "text/plain": [
       "'Visakhapatnam Search'"
      ]
     },
     "execution_count": 7,
     "metadata": {},
     "output_type": "execute_result"
    }
   ],
   "source": [
    "tool.name"
   ]
  },
  {
   "cell_type": "code",
   "execution_count": 8,
   "metadata": {},
   "outputs": [
    {
     "data": {
      "text/plain": [
       "VectorStoreRetriever(tags=['FAISS', 'OllamaEmbeddings'], vectorstore=<langchain_community.vectorstores.faiss.FAISS object at 0x7f1cba324890>)"
      ]
     },
     "execution_count": 8,
     "metadata": {},
     "output_type": "execute_result"
    }
   ],
   "source": [
    "from langchain_community.document_loaders import WebBaseLoader\n",
    "from langchain_community.vectorstores import FAISS\n",
    "from langchain_community.embeddings import OllamaEmbeddings\n",
    "from langchain_text_splitters import RecursiveCharacterTextSplitter\n",
    "\n",
    "loader=WebBaseLoader('https://python.langchain.com/v0.2/docs/integrations/tools/google_cloud_texttospeech/')\n",
    "docs=loader.load()\n",
    "documents=RecursiveCharacterTextSplitter(chunk_size=1000,chunk_overlap=200).split_documents(docs)\n",
    "vectordb=FAISS.from_documents(documents,OllamaEmbeddings())\n",
    "tex=vectordb.as_retriever()\n",
    "tex\n"
   ]
  },
  {
   "cell_type": "code",
   "execution_count": 9,
   "metadata": {},
   "outputs": [],
   "source": [
    "from langchain.tools.retriever import create_retriever_tool\n",
    "tex=create_retriever_tool(tex,\"google_cloud_texttospeech Search\",\n",
    "                      \"Search for information about google_cloud_texttospeech. For any questions about google_cloud_texttospeech, you must use this tool!\")"
   ]
  },
  {
   "cell_type": "code",
   "execution_count": 10,
   "metadata": {},
   "outputs": [
    {
     "data": {
      "text/plain": [
       "'google_cloud_texttospeech Search'"
      ]
     },
     "execution_count": 10,
     "metadata": {},
     "output_type": "execute_result"
    }
   ],
   "source": [
    "tex.name"
   ]
  },
  {
   "cell_type": "code",
   "execution_count": 11,
   "metadata": {},
   "outputs": [],
   "source": [
    "tools=[retriever_tool,tool,tex]"
   ]
  },
  {
   "cell_type": "code",
   "execution_count": 12,
   "metadata": {},
   "outputs": [],
   "source": [
    "from dotenv import load_dotenv\n",
    "\n",
    "load_dotenv()\n",
    "\n",
    "from langchain_community.chat_models import ChatOllama\n",
    "\n",
    "llm = ChatOllama(model=\"llama2\", temperature=0.7)"
   ]
  },
  {
   "cell_type": "code",
   "execution_count": 13,
   "metadata": {},
   "outputs": [
    {
     "data": {
      "text/plain": [
       "[SystemMessagePromptTemplate(prompt=PromptTemplate(input_variables=[], template='You are a helpful assistant')),\n",
       " MessagesPlaceholder(variable_name='chat_history', optional=True),\n",
       " HumanMessagePromptTemplate(prompt=PromptTemplate(input_variables=['input'], template='{input}')),\n",
       " MessagesPlaceholder(variable_name='agent_scratchpad')]"
      ]
     },
     "execution_count": 13,
     "metadata": {},
     "output_type": "execute_result"
    }
   ],
   "source": [
    "from langchain import hub\n",
    "# Get the prompt to use - you can modify this!\n",
    "prompt = hub.pull(\"hwchase17/openai-functions-agent\")\n",
    "prompt.messages"
   ]
  },
  {
   "cell_type": "code",
   "execution_count": 14,
   "metadata": {},
   "outputs": [],
   "source": [
    "### Agents\n",
    "from langchain.agents import create_openai_tools_agent\n",
    "agent=create_openai_tools_agent(llm,tools,prompt)"
   ]
  },
  {
   "cell_type": "code",
   "execution_count": 15,
   "metadata": {},
   "outputs": [
    {
     "data": {
      "text/plain": [
       "AgentExecutor(verbose=True, agent=RunnableMultiActionAgent(runnable=RunnableAssign(mapper={\n",
       "  agent_scratchpad: RunnableLambda(lambda x: format_to_openai_tool_messages(x['intermediate_steps']))\n",
       "})\n",
       "| ChatPromptTemplate(input_variables=['agent_scratchpad', 'input'], input_types={'chat_history': typing.List[typing.Union[langchain_core.messages.ai.AIMessage, langchain_core.messages.human.HumanMessage, langchain_core.messages.chat.ChatMessage, langchain_core.messages.system.SystemMessage, langchain_core.messages.function.FunctionMessage, langchain_core.messages.tool.ToolMessage]], 'agent_scratchpad': typing.List[typing.Union[langchain_core.messages.ai.AIMessage, langchain_core.messages.human.HumanMessage, langchain_core.messages.chat.ChatMessage, langchain_core.messages.system.SystemMessage, langchain_core.messages.function.FunctionMessage, langchain_core.messages.tool.ToolMessage]]}, metadata={'lc_hub_owner': 'hwchase17', 'lc_hub_repo': 'openai-functions-agent', 'lc_hub_commit_hash': 'a1655024b06afbd95d17449f21316291e0726f13dcfaf990cc0d18087ad689a5'}, messages=[SystemMessagePromptTemplate(prompt=PromptTemplate(input_variables=[], template='You are a helpful assistant')), MessagesPlaceholder(variable_name='chat_history', optional=True), HumanMessagePromptTemplate(prompt=PromptTemplate(input_variables=['input'], template='{input}')), MessagesPlaceholder(variable_name='agent_scratchpad')])\n",
       "| RunnableBinding(bound=ChatOllama(temperature=0.7), kwargs={'tools': [{'type': 'function', 'function': {'name': 'generative AI_search', 'description': 'Search for information about generative AI. For any questions about Generative AI, you must use this tool!', 'parameters': {'type': 'object', 'properties': {'query': {'description': 'query to look up in retriever', 'type': 'string'}}, 'required': ['query']}}}, {'type': 'function', 'function': {'name': 'Visakhapatnam Search', 'description': 'Search for information about Visakhapatnam. For any questions about Visakhapatnam, you must use this tool!', 'parameters': {'type': 'object', 'properties': {'query': {'description': 'query to look up in retriever', 'type': 'string'}}, 'required': ['query']}}}, {'type': 'function', 'function': {'name': 'google_cloud_texttospeech Search', 'description': 'Search for information about google_cloud_texttospeech. For any questions about google_cloud_texttospeech, you must use this tool!', 'parameters': {'type': 'object', 'properties': {'query': {'description': 'query to look up in retriever', 'type': 'string'}}, 'required': ['query']}}}]})\n",
       "| OpenAIToolsAgentOutputParser(), input_keys_arg=[], return_keys_arg=[], stream_runnable=True), tools=[Tool(name='generative AI_search', description='Search for information about generative AI. For any questions about Generative AI, you must use this tool!', args_schema=<class 'langchain_core.tools.RetrieverInput'>, func=functools.partial(<function _get_relevant_documents at 0x7f1cb6caa200>, retriever=VectorStoreRetriever(tags=['FAISS', 'OllamaEmbeddings'], vectorstore=<langchain_community.vectorstores.faiss.FAISS object at 0x7f1cb9dd2f50>), document_prompt=PromptTemplate(input_variables=['page_content'], template='{page_content}'), document_separator='\\n\\n'), coroutine=functools.partial(<function _aget_relevant_documents at 0x7f1cb6caa520>, retriever=VectorStoreRetriever(tags=['FAISS', 'OllamaEmbeddings'], vectorstore=<langchain_community.vectorstores.faiss.FAISS object at 0x7f1cb9dd2f50>), document_prompt=PromptTemplate(input_variables=['page_content'], template='{page_content}'), document_separator='\\n\\n')), Tool(name='Visakhapatnam Search', description='Search for information about Visakhapatnam. For any questions about Visakhapatnam, you must use this tool!', args_schema=<class 'langchain_core.tools.RetrieverInput'>, func=functools.partial(<function _get_relevant_documents at 0x7f1cb6caa200>, retriever=VectorStoreRetriever(tags=['FAISS', 'OllamaEmbeddings'], vectorstore=<langchain_community.vectorstores.faiss.FAISS object at 0x7f1cb9dd29d0>), document_prompt=PromptTemplate(input_variables=['page_content'], template='{page_content}'), document_separator='\\n\\n'), coroutine=functools.partial(<function _aget_relevant_documents at 0x7f1cb6caa520>, retriever=VectorStoreRetriever(tags=['FAISS', 'OllamaEmbeddings'], vectorstore=<langchain_community.vectorstores.faiss.FAISS object at 0x7f1cb9dd29d0>), document_prompt=PromptTemplate(input_variables=['page_content'], template='{page_content}'), document_separator='\\n\\n')), Tool(name='google_cloud_texttospeech Search', description='Search for information about google_cloud_texttospeech. For any questions about google_cloud_texttospeech, you must use this tool!', args_schema=<class 'langchain_core.tools.RetrieverInput'>, func=functools.partial(<function _get_relevant_documents at 0x7f1cb6caa200>, retriever=VectorStoreRetriever(tags=['FAISS', 'OllamaEmbeddings'], vectorstore=<langchain_community.vectorstores.faiss.FAISS object at 0x7f1cba324890>), document_prompt=PromptTemplate(input_variables=['page_content'], template='{page_content}'), document_separator='\\n\\n'), coroutine=functools.partial(<function _aget_relevant_documents at 0x7f1cb6caa520>, retriever=VectorStoreRetriever(tags=['FAISS', 'OllamaEmbeddings'], vectorstore=<langchain_community.vectorstores.faiss.FAISS object at 0x7f1cba324890>), document_prompt=PromptTemplate(input_variables=['page_content'], template='{page_content}'), document_separator='\\n\\n'))])"
      ]
     },
     "execution_count": 15,
     "metadata": {},
     "output_type": "execute_result"
    }
   ],
   "source": [
    "## Agent Executer\n",
    "from langchain.agents import AgentExecutor\n",
    "agent_executor=AgentExecutor(agent=agent,tools=tools,verbose=True)\n",
    "agent_executor"
   ]
  },
  {
   "cell_type": "code",
   "execution_count": 16,
   "metadata": {},
   "outputs": [
    {
     "name": "stdout",
     "output_type": "stream",
     "text": [
      "\n",
      "\n",
      "\u001b[1m> Entering new AgentExecutor chain...\u001b[0m\n",
      "\u001b[32;1m\u001b[1;3mOf course, I'd be happy to help! Visakhapatnam, also known as Vizag, is a beautiful coastal city in Andhra Pradesh, India. Here are some of the most famous places to visit in Visakhapatnam:\n",
      "\n",
      "1. Ramakrishna Beach: Located on the eastern coast of Visakhapatnam, Ramakrishna Beach is one of the most popular beaches in the city. It's a 3-km long beach with soft sand and a scenic view of the Bay of Bengal. You can enjoy water sports, walk along the beach, or simply relax and soak up the sun.\n",
      "2. Kattakurichi Beach: Another beautiful beach in Visakhapatnam, Kattakurichi Beach is known for its calm waters and picturesque surroundings. It's a great spot for swimming, sunbathing, and water sports.\n",
      "3. INS Kursura Submarine Museum: Located on the Beach Road in Visakhapatnam, INS Kursura Submarine Museum is a must-visit attraction for history buffs. The museum showcases the history of Indian submarines and offers a unique underwater experience through its interactive exhibits.\n",
      "4. Vizag Cathedral: St. Mary's Cathedral, popularly known as Vizag Cathedral, is a beautiful church located in the heart of Visakhapatnam. It was built in the 19th century by the Portuguese and is known for its stunning architecture and peaceful atmosphere.\n",
      "5. Kailasa Giri: Located about 8 km from Visakhapatnam, Kailasa Giri is a hilltop destination that offers panoramic views of the city and the sea. It's a great spot for trekking and offers a peaceful retreat from the hustle and bustle of the city.\n",
      "6. Matsyashram: Matsyashram is a popular aquarium located near the Visakha Museum in Visakhapatnam. It showcases a wide variety of marine life, including fish, sharks, and other sea creatures. It's a great place to visit with family or friends.\n",
      "7. Visakha Museum: The Visakha Museum is a must-visit attraction for art lovers and history buffs. It showcases a collection of artifacts, paintings, and sculptures that reflect the cultural heritage of Visakhapatnam.\n",
      "8. Simhachalam Temple: Located on a hilltop about 12 km from Visakhapatnam, Simhachalam Temple is a sacred place for Hindus. It's dedicated to Lord Venkateswara and offers stunning views of the surrounding hills and valleys.\n",
      "9. Submarine Museum: The Submarine Museum is located on the Beach Road in Visakhapatnam and showcases the history of Indian submarines. You can see exhibits related to the design, construction, and operations of submarines, as well as interactive displays and simulations.\n",
      "10. Gangavaram Beach: Gangavaram Beach is a scenic beach located about 12 km from Visakhapatnam. It's known for its calm waters and picturesque surroundings. You can enjoy water sports, walk along the beach, or simply relax and soak up the sun.\n",
      "\n",
      "These are just a few of the many famous places to visit in Visakhapatnam. The city has a lot more to offer, including beautiful parks, temples, and cultural attractions. Have a great time exploring this beautiful coastal city!\u001b[0m\n",
      "\n",
      "\u001b[1m> Finished chain.\u001b[0m\n"
     ]
    },
    {
     "data": {
      "text/plain": [
       "{'input': 'Tell me about famous places in Visakhapatnam',\n",
       " 'output': \"Of course, I'd be happy to help! Visakhapatnam, also known as Vizag, is a beautiful coastal city in Andhra Pradesh, India. Here are some of the most famous places to visit in Visakhapatnam:\\n\\n1. Ramakrishna Beach: Located on the eastern coast of Visakhapatnam, Ramakrishna Beach is one of the most popular beaches in the city. It's a 3-km long beach with soft sand and a scenic view of the Bay of Bengal. You can enjoy water sports, walk along the beach, or simply relax and soak up the sun.\\n2. Kattakurichi Beach: Another beautiful beach in Visakhapatnam, Kattakurichi Beach is known for its calm waters and picturesque surroundings. It's a great spot for swimming, sunbathing, and water sports.\\n3. INS Kursura Submarine Museum: Located on the Beach Road in Visakhapatnam, INS Kursura Submarine Museum is a must-visit attraction for history buffs. The museum showcases the history of Indian submarines and offers a unique underwater experience through its interactive exhibits.\\n4. Vizag Cathedral: St. Mary's Cathedral, popularly known as Vizag Cathedral, is a beautiful church located in the heart of Visakhapatnam. It was built in the 19th century by the Portuguese and is known for its stunning architecture and peaceful atmosphere.\\n5. Kailasa Giri: Located about 8 km from Visakhapatnam, Kailasa Giri is a hilltop destination that offers panoramic views of the city and the sea. It's a great spot for trekking and offers a peaceful retreat from the hustle and bustle of the city.\\n6. Matsyashram: Matsyashram is a popular aquarium located near the Visakha Museum in Visakhapatnam. It showcases a wide variety of marine life, including fish, sharks, and other sea creatures. It's a great place to visit with family or friends.\\n7. Visakha Museum: The Visakha Museum is a must-visit attraction for art lovers and history buffs. It showcases a collection of artifacts, paintings, and sculptures that reflect the cultural heritage of Visakhapatnam.\\n8. Simhachalam Temple: Located on a hilltop about 12 km from Visakhapatnam, Simhachalam Temple is a sacred place for Hindus. It's dedicated to Lord Venkateswara and offers stunning views of the surrounding hills and valleys.\\n9. Submarine Museum: The Submarine Museum is located on the Beach Road in Visakhapatnam and showcases the history of Indian submarines. You can see exhibits related to the design, construction, and operations of submarines, as well as interactive displays and simulations.\\n10. Gangavaram Beach: Gangavaram Beach is a scenic beach located about 12 km from Visakhapatnam. It's known for its calm waters and picturesque surroundings. You can enjoy water sports, walk along the beach, or simply relax and soak up the sun.\\n\\nThese are just a few of the many famous places to visit in Visakhapatnam. The city has a lot more to offer, including beautiful parks, temples, and cultural attractions. Have a great time exploring this beautiful coastal city!\"}"
      ]
     },
     "execution_count": 16,
     "metadata": {},
     "output_type": "execute_result"
    }
   ],
   "source": [
    "agent_executor.invoke({\"input\":\"Tell me about famous places in Visakhapatnam\"})"
   ]
  },
  {
   "cell_type": "code",
   "execution_count": 17,
   "metadata": {},
   "outputs": [
    {
     "name": "stdout",
     "output_type": "stream",
     "text": [
      "\n",
      "\n",
      "\u001b[1m> Entering new AgentExecutor chain...\u001b[0m\n",
      "\u001b[32;1m\u001b[1;3m\n",
      "To implement Google Cloud Text-to-Speech (TTS) based on the documentation, you can follow these steps:\n",
      "\n",
      "1. Create a project in the Google Cloud Console:\n",
      "\t* Go to the Google Cloud Console and create a new project.\n",
      "\t* Make sure to enable the \"Text-to-Speech\" API in the \"APIs & Services\" section.\n",
      "2. Set up authentication:\n",
      "\t* Create credentials for your project by going to the \"Navigation menu\" (☰) > \"APIs & Services\" > \"Credentials\".\n",
      "\t* Click on \"Create Credentials\" and select \"OAuth client ID\".\n",
      "\t* Choose \"Other\" as the application type and enter a name for your client ID.\n",
      "\t* Save and close the credentials page.\n",
      "3. Install the Google Cloud SDK:\n",
      "\t* Download and install the Google Cloud SDK from the official website.\n",
      "4. Authenticate with the TTS API:\n",
      "\t* Use the `gcloud auth` command to authenticate with the TTS API. For example:\n",
      "```bash\n",
      "gcloud auth activate-auth --project=PROJECT_ID\n",
      "```\n",
      "Replace `PROJECT_ID` with your project ID.\n",
      "5. Create a Cloud Text-to-Speech client:\n",
      "\t* Use the `gcloud texttospeech` command to create a Cloud Text-to-Speech client. For example:\n",
      "```bash\n",
      "gcloud texttospeech --project=PROJECT_ID create --language=ENGLISH\n",
      "```\n",
      "Replace `PROJECT_ID` with your project ID and `--language` with the language you want to use for the TTS output (e.g., \"English\").\n",
      "6. Generate audio:\n",
      "\t* Use the `gcloud texttospeech` command to generate audio for a given text input. For example:\n",
      "```bash\n",
      "gcloud texttospeech --project=PROJECT_ID synthesize --audio-config=SAMPLE_AUDIO_CONFIG --language=ENGLISH --text=input_text\n",
      "```\n",
      "Replace `PROJECT_ID` with your project ID, `--audio-config` with the audio configuration (e.g., \"sample_audio_config\"), `--language` with the language you want to use for the TTS output (e.g., \"English\"), and `input_text` with the text you want to generate as audio.\n",
      "\n",
      "Here's a summary of the steps:\n",
      "\n",
      "1. Create a project in the Google Cloud Console and enable the \"Text-to-Speech\" API.\n",
      "2. Set up authentication using the `gcloud auth` command.\n",
      "3. Install the Google Cloud SDK.\n",
      "4. Authenticate with the TTS API using the `gcloud auth` command.\n",
      "5. Create a Cloud Text-to-Speech client using the `gcloud texttospeech` command.\n",
      "6. Generate audio for a given text input using the `gcloud texttospeech` command.\n",
      "\n",
      "Note: The above steps are based on the documentation available at <https://cloud.google.com/text-to-speech/>, and may not be exhaustive or up-to-date. It's important to consult the official documentation for the most recent information and updates.\u001b[0m\n",
      "\n",
      "\u001b[1m> Finished chain.\u001b[0m\n"
     ]
    },
    {
     "data": {
      "text/plain": [
       "{'input': 'how to implement google_cloud_texttospeech based on documnetation?',\n",
       " 'output': '\\nTo implement Google Cloud Text-to-Speech (TTS) based on the documentation, you can follow these steps:\\n\\n1. Create a project in the Google Cloud Console:\\n\\t* Go to the Google Cloud Console and create a new project.\\n\\t* Make sure to enable the \"Text-to-Speech\" API in the \"APIs & Services\" section.\\n2. Set up authentication:\\n\\t* Create credentials for your project by going to the \"Navigation menu\" (☰) > \"APIs & Services\" > \"Credentials\".\\n\\t* Click on \"Create Credentials\" and select \"OAuth client ID\".\\n\\t* Choose \"Other\" as the application type and enter a name for your client ID.\\n\\t* Save and close the credentials page.\\n3. Install the Google Cloud SDK:\\n\\t* Download and install the Google Cloud SDK from the official website.\\n4. Authenticate with the TTS API:\\n\\t* Use the `gcloud auth` command to authenticate with the TTS API. For example:\\n```bash\\ngcloud auth activate-auth --project=PROJECT_ID\\n```\\nReplace `PROJECT_ID` with your project ID.\\n5. Create a Cloud Text-to-Speech client:\\n\\t* Use the `gcloud texttospeech` command to create a Cloud Text-to-Speech client. For example:\\n```bash\\ngcloud texttospeech --project=PROJECT_ID create --language=ENGLISH\\n```\\nReplace `PROJECT_ID` with your project ID and `--language` with the language you want to use for the TTS output (e.g., \"English\").\\n6. Generate audio:\\n\\t* Use the `gcloud texttospeech` command to generate audio for a given text input. For example:\\n```bash\\ngcloud texttospeech --project=PROJECT_ID synthesize --audio-config=SAMPLE_AUDIO_CONFIG --language=ENGLISH --text=input_text\\n```\\nReplace `PROJECT_ID` with your project ID, `--audio-config` with the audio configuration (e.g., \"sample_audio_config\"), `--language` with the language you want to use for the TTS output (e.g., \"English\"), and `input_text` with the text you want to generate as audio.\\n\\nHere\\'s a summary of the steps:\\n\\n1. Create a project in the Google Cloud Console and enable the \"Text-to-Speech\" API.\\n2. Set up authentication using the `gcloud auth` command.\\n3. Install the Google Cloud SDK.\\n4. Authenticate with the TTS API using the `gcloud auth` command.\\n5. Create a Cloud Text-to-Speech client using the `gcloud texttospeech` command.\\n6. Generate audio for a given text input using the `gcloud texttospeech` command.\\n\\nNote: The above steps are based on the documentation available at <https://cloud.google.com/text-to-speech/>, and may not be exhaustive or up-to-date. It\\'s important to consult the official documentation for the most recent information and updates.'}"
      ]
     },
     "execution_count": 17,
     "metadata": {},
     "output_type": "execute_result"
    }
   ],
   "source": [
    "agent_executor.invoke({'input':'how to implement google_cloud_texttospeech based on documnetation?'})"
   ]
  },
  {
   "cell_type": "code",
   "execution_count": 9,
   "metadata": {},
   "outputs": [
    {
     "name": "stdout",
     "output_type": "stream",
     "text": [
      "\u001b[0m\n",
      "\u001b[34m\u001b[1m  You can now view your Streamlit app in your browser.\u001b[0m\n",
      "\u001b[0m\n",
      "\u001b[34m  Local URL: \u001b[0m\u001b[1mhttp://localhost:8501\u001b[0m\n",
      "\u001b[34m  Network URL: \u001b[0m\u001b[1mhttp://172.16.0.212:8501\u001b[0m\n",
      "\u001b[0m\n",
      "USER_AGENT environment variable not set, consider setting it to identify your requests.\n",
      "\n",
      "\n",
      "\u001b[1m> Entering new AgentExecutor chain...\u001b[0m\n",
      "\u001b[32;1m\u001b[1;3m\n",
      "Of course! Vizag, also known as Visakhapatnam, is a port city located in the state of Andhra Pradesh in India. It is situated on the southeastern coast of India, along the Bay of Bengal. The city is known for its picturesque location, rich history, and cultural heritage. Vizag is home to several attractions such as the Visakhapatnam Harbor, the Kailasagiri Hill, the Indira Gandhi Zoological Park, and the Simhachalam Temple. It is also a major commercial and industrial hub in the state of Andhra Pradesh.\u001b[0m\n",
      "\n",
      "\u001b[1m> Finished chain.\u001b[0m\n",
      "^C\n",
      "\u001b[34m  Stopping...\u001b[0m\n"
     ]
    }
   ],
   "source": [
    "!streamlit run app.py"
   ]
  },
  {
   "cell_type": "code",
   "execution_count": 2,
   "metadata": {},
   "outputs": [
    {
     "name": "stdout",
     "output_type": "stream",
     "text": [
      "Requirement already satisfied: langchain_community in /home/pradeep/anaconda3/envs/.venv/lib/python3.11/site-packages (0.2.6)\n",
      "Requirement already satisfied: PyYAML>=5.3 in /home/pradeep/anaconda3/envs/.venv/lib/python3.11/site-packages (from langchain_community) (6.0.1)\n",
      "Requirement already satisfied: SQLAlchemy<3,>=1.4 in /home/pradeep/anaconda3/envs/.venv/lib/python3.11/site-packages (from langchain_community) (2.0.30)\n",
      "Requirement already satisfied: aiohttp<4.0.0,>=3.8.3 in /home/pradeep/anaconda3/envs/.venv/lib/python3.11/site-packages (from langchain_community) (3.9.5)\n",
      "Requirement already satisfied: dataclasses-json<0.7,>=0.5.7 in /home/pradeep/anaconda3/envs/.venv/lib/python3.11/site-packages (from langchain_community) (0.6.7)\n",
      "Requirement already satisfied: langchain<0.3.0,>=0.2.6 in /home/pradeep/anaconda3/envs/.venv/lib/python3.11/site-packages (from langchain_community) (0.2.6)\n",
      "Requirement already satisfied: langchain-core<0.3.0,>=0.2.10 in /home/pradeep/anaconda3/envs/.venv/lib/python3.11/site-packages (from langchain_community) (0.2.11)\n",
      "Requirement already satisfied: langsmith<0.2.0,>=0.1.0 in /home/pradeep/anaconda3/envs/.venv/lib/python3.11/site-packages (from langchain_community) (0.1.77)\n",
      "Requirement already satisfied: numpy<2,>=1 in /home/pradeep/anaconda3/envs/.venv/lib/python3.11/site-packages (from langchain_community) (1.26.4)\n",
      "Requirement already satisfied: requests<3,>=2 in /home/pradeep/anaconda3/envs/.venv/lib/python3.11/site-packages (from langchain_community) (2.32.3)\n",
      "Requirement already satisfied: tenacity!=8.4.0,<9.0.0,>=8.1.0 in /home/pradeep/anaconda3/envs/.venv/lib/python3.11/site-packages (from langchain_community) (8.3.0)\n",
      "Requirement already satisfied: aiosignal>=1.1.2 in /home/pradeep/anaconda3/envs/.venv/lib/python3.11/site-packages (from aiohttp<4.0.0,>=3.8.3->langchain_community) (1.3.1)\n",
      "Requirement already satisfied: attrs>=17.3.0 in /home/pradeep/anaconda3/envs/.venv/lib/python3.11/site-packages (from aiohttp<4.0.0,>=3.8.3->langchain_community) (23.2.0)\n",
      "Requirement already satisfied: frozenlist>=1.1.1 in /home/pradeep/anaconda3/envs/.venv/lib/python3.11/site-packages (from aiohttp<4.0.0,>=3.8.3->langchain_community) (1.4.1)\n",
      "Requirement already satisfied: multidict<7.0,>=4.5 in /home/pradeep/anaconda3/envs/.venv/lib/python3.11/site-packages (from aiohttp<4.0.0,>=3.8.3->langchain_community) (6.0.5)\n",
      "Requirement already satisfied: yarl<2.0,>=1.0 in /home/pradeep/anaconda3/envs/.venv/lib/python3.11/site-packages (from aiohttp<4.0.0,>=3.8.3->langchain_community) (1.9.4)\n",
      "Requirement already satisfied: marshmallow<4.0.0,>=3.18.0 in /home/pradeep/anaconda3/envs/.venv/lib/python3.11/site-packages (from dataclasses-json<0.7,>=0.5.7->langchain_community) (3.21.3)\n",
      "Requirement already satisfied: typing-inspect<1,>=0.4.0 in /home/pradeep/anaconda3/envs/.venv/lib/python3.11/site-packages (from dataclasses-json<0.7,>=0.5.7->langchain_community) (0.9.0)\n",
      "Requirement already satisfied: langchain-text-splitters<0.3.0,>=0.2.0 in /home/pradeep/anaconda3/envs/.venv/lib/python3.11/site-packages (from langchain<0.3.0,>=0.2.6->langchain_community) (0.2.1)\n",
      "Requirement already satisfied: pydantic<3,>=1 in /home/pradeep/anaconda3/envs/.venv/lib/python3.11/site-packages (from langchain<0.3.0,>=0.2.6->langchain_community) (2.7.4)\n",
      "Requirement already satisfied: jsonpatch<2.0,>=1.33 in /home/pradeep/anaconda3/envs/.venv/lib/python3.11/site-packages (from langchain-core<0.3.0,>=0.2.10->langchain_community) (1.33)\n",
      "Requirement already satisfied: packaging<25,>=23.2 in /home/pradeep/anaconda3/envs/.venv/lib/python3.11/site-packages (from langchain-core<0.3.0,>=0.2.10->langchain_community) (23.2)\n",
      "Requirement already satisfied: orjson<4.0.0,>=3.9.14 in /home/pradeep/anaconda3/envs/.venv/lib/python3.11/site-packages (from langsmith<0.2.0,>=0.1.0->langchain_community) (3.10.5)\n",
      "Requirement already satisfied: charset-normalizer<4,>=2 in /home/pradeep/anaconda3/envs/.venv/lib/python3.11/site-packages (from requests<3,>=2->langchain_community) (3.3.2)\n",
      "Requirement already satisfied: idna<4,>=2.5 in /home/pradeep/anaconda3/envs/.venv/lib/python3.11/site-packages (from requests<3,>=2->langchain_community) (3.7)\n",
      "Requirement already satisfied: urllib3<3,>=1.21.1 in /home/pradeep/anaconda3/envs/.venv/lib/python3.11/site-packages (from requests<3,>=2->langchain_community) (2.2.1)\n",
      "Requirement already satisfied: certifi>=2017.4.17 in /home/pradeep/anaconda3/envs/.venv/lib/python3.11/site-packages (from requests<3,>=2->langchain_community) (2024.6.2)\n",
      "Requirement already satisfied: typing-extensions>=4.6.0 in /home/pradeep/anaconda3/envs/.venv/lib/python3.11/site-packages (from SQLAlchemy<3,>=1.4->langchain_community) (4.12.2)\n",
      "Requirement already satisfied: greenlet!=0.4.17 in /home/pradeep/anaconda3/envs/.venv/lib/python3.11/site-packages (from SQLAlchemy<3,>=1.4->langchain_community) (3.0.3)\n",
      "Requirement already satisfied: jsonpointer>=1.9 in /home/pradeep/anaconda3/envs/.venv/lib/python3.11/site-packages (from jsonpatch<2.0,>=1.33->langchain-core<0.3.0,>=0.2.10->langchain_community) (3.0.0)\n",
      "Requirement already satisfied: annotated-types>=0.4.0 in /home/pradeep/anaconda3/envs/.venv/lib/python3.11/site-packages (from pydantic<3,>=1->langchain<0.3.0,>=0.2.6->langchain_community) (0.7.0)\n",
      "Requirement already satisfied: pydantic-core==2.18.4 in /home/pradeep/anaconda3/envs/.venv/lib/python3.11/site-packages (from pydantic<3,>=1->langchain<0.3.0,>=0.2.6->langchain_community) (2.18.4)\n",
      "Requirement already satisfied: mypy-extensions>=0.3.0 in /home/pradeep/anaconda3/envs/.venv/lib/python3.11/site-packages (from typing-inspect<1,>=0.4.0->dataclasses-json<0.7,>=0.5.7->langchain_community) (1.0.0)\n"
     ]
    }
   ],
   "source": [
    "!pip install langchain_community"
   ]
  },
  {
   "cell_type": "code",
   "execution_count": null,
   "metadata": {},
   "outputs": [],
   "source": []
  }
 ],
 "metadata": {
  "kernelspec": {
   "display_name": ".venv",
   "language": "python",
   "name": "python3"
  },
  "language_info": {
   "codemirror_mode": {
    "name": "ipython",
    "version": 3
   },
   "file_extension": ".py",
   "mimetype": "text/x-python",
   "name": "python",
   "nbconvert_exporter": "python",
   "pygments_lexer": "ipython3",
   "version": "3.11.9"
  }
 },
 "nbformat": 4,
 "nbformat_minor": 2
}
